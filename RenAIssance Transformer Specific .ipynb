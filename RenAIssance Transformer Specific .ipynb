{
 "cells": [
  {
   "cell_type": "markdown",
   "id": "cd8dec88-c27f-4eaf-9673-2b5f6fe66034",
   "metadata": {},
   "source": [
    "## Optical Character Recognition using Transformer Architecture\n",
    "\n"
   ]
  },
  {
   "cell_type": "markdown",
   "id": "1a9c8b25-c80c-47e2-b769-c69e685e70c6",
   "metadata": {},
   "source": [
    "Prepare Data for Specific Dataset "
   ]
  },
  {
   "cell_type": "code",
   "execution_count": 3,
   "id": "43a238cb",
   "metadata": {},
   "outputs": [
    {
     "ename": "ModuleNotFoundError",
     "evalue": "No module named 'pdf2image'",
     "output_type": "error",
     "traceback": [
      "\u001b[0;31m---------------------------------------------------------------------------\u001b[0m",
      "\u001b[0;31mModuleNotFoundError\u001b[0m                       Traceback (most recent call last)",
      "Cell \u001b[0;32mIn[3], line 1\u001b[0m\n\u001b[0;32m----> 1\u001b[0m \u001b[38;5;28;01mfrom\u001b[39;00m \u001b[38;5;21;01mpdf2image\u001b[39;00m \u001b[38;5;28;01mimport\u001b[39;00m convert_from_path\n\u001b[1;32m      3\u001b[0m pdf_path \u001b[38;5;241m=\u001b[39m \u001b[38;5;124m'\u001b[39m\u001b[38;5;124mPadilla - Nobleza virtuosa_testExtract.pdf\u001b[39m\u001b[38;5;124m'\u001b[39m\n\u001b[1;32m      4\u001b[0m output_folder \u001b[38;5;241m=\u001b[39m \u001b[38;5;124m'\u001b[39m\u001b[38;5;124mPdf Output\u001b[39m\u001b[38;5;124m'\u001b[39m\n",
      "\u001b[0;31mModuleNotFoundError\u001b[0m: No module named 'pdf2image'"
     ]
    }
   ],
   "source": [
    "from pdf2image import convert_from_path\n",
    "\n",
    "pdf_path = 'Padilla - Nobleza virtuosa_testExtract.pdf'\n",
    "output_folder = 'Pdf Output'\n",
    "\n",
    "# Convert each page of the PDF to an image\n",
    "images = convert_from_path(pdf_path)\n",
    "\n",
    "# Save each image with the page number as the filename\n",
    "for i, image in enumerate(images):\n",
    "    image.save(f'{output_folder}page_{i+1}.jpg', 'JPEG')\n"
   ]
  },
  {
   "cell_type": "code",
   "execution_count": null,
   "id": "4e63a110",
   "metadata": {},
   "outputs": [],
   "source": []
  },
  {
   "cell_type": "code",
   "execution_count": null,
   "id": "0957fa52",
   "metadata": {},
   "outputs": [],
   "source": []
  },
  {
   "cell_type": "code",
   "execution_count": null,
   "id": "946233d3",
   "metadata": {},
   "outputs": [],
   "source": []
  },
  {
   "cell_type": "code",
   "execution_count": null,
   "id": "df425fe0",
   "metadata": {},
   "outputs": [],
   "source": []
  },
  {
   "cell_type": "code",
   "execution_count": null,
   "id": "5e26c5bf",
   "metadata": {},
   "outputs": [],
   "source": []
  },
  {
   "cell_type": "code",
   "execution_count": null,
   "id": "28f62945",
   "metadata": {},
   "outputs": [],
   "source": []
  }
 ],
 "metadata": {
  "kernelspec": {
   "display_name": "RenAIssance",
   "language": "python",
   "name": "renaissance"
  },
  "language_info": {
   "codemirror_mode": {
    "name": "ipython",
    "version": 3
   },
   "file_extension": ".py",
   "mimetype": "text/x-python",
   "name": "python",
   "nbconvert_exporter": "python",
   "pygments_lexer": "ipython3",
   "version": "3.11.8"
  }
 },
 "nbformat": 4,
 "nbformat_minor": 5
}
