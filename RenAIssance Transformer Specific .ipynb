{
 "cells": [
  {
   "cell_type": "markdown",
   "id": "cd8dec88-c27f-4eaf-9673-2b5f6fe66034",
   "metadata": {},
   "source": [
    "## Optical Character Recognition using Transformer Architecture\n",
    "\n"
   ]
  },
  {
   "cell_type": "markdown",
   "id": "1a9c8b25-c80c-47e2-b769-c69e685e70c6",
   "metadata": {},
   "source": [
    "Prepare Data for Specific Dataset "
   ]
  },
  {
   "cell_type": "code",
   "execution_count": null,
   "id": "a1f24644",
   "metadata": {},
   "outputs": [],
   "source": [
    "%pip install pdf2image\n",
    "%pip install poppler-utils\n"
   ]
  },
  {
   "cell_type": "code",
   "execution_count": null,
   "id": "43a238cb",
   "metadata": {},
   "outputs": [],
   "source": [
    "import pypdfium2 as pdfium\n",
    "\n",
    "# Load a document\n",
    "pdf = pdfium.PdfDocument(\"Padilla - Nobleza virtuosa_testExtract.pdf\")\n",
    "\n",
    "# Loop over pages and render\n",
    "for i in range(len(pdf)):\n",
    "    page = pdf[i]\n",
    "    image = page.render(scale=4).to_pil()\n",
    "    image.save(f\"output_{i:03d}.jpg\")"
   ]
  }
 ],
 "metadata": {
  "kernelspec": {
   "display_name": "Python 3 (ipykernel)",
   "language": "python",
   "name": "python3"
  },
  "language_info": {
   "codemirror_mode": {
    "name": "ipython",
    "version": 3
   },
   "file_extension": ".py",
   "mimetype": "text/x-python",
   "name": "python",
   "nbconvert_exporter": "python",
   "pygments_lexer": "ipython3",
   "version": "3.10.13"
  }
 },
 "nbformat": 4,
 "nbformat_minor": 5
}
